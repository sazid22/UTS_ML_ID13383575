{
  "nbformat": 4,
  "nbformat_minor": 0,
  "metadata": {
    "colab": {
      "name": "UTS32513_A3_13383575.ipynb",
      "provenance": [],
      "collapsed_sections": [],
      "toc_visible": true,
      "include_colab_link": true
    },
    "kernelspec": {
      "name": "python3",
      "display_name": "Python 3"
    }
  },
  "cells": [
    {
      "cell_type": "markdown",
      "metadata": {
        "id": "view-in-github",
        "colab_type": "text"
      },
      "source": [
        "<a href=\"https://colab.research.google.com/github/sazid22/UTS_ML_ID13383575/blob/master/UTS32513_A3_13383575.ipynb\" target=\"_parent\"><img src=\"https://colab.research.google.com/assets/colab-badge.svg\" alt=\"Open In Colab\"/></a>"
      ]
    },
    {
      "cell_type": "markdown",
      "metadata": {
        "id": "8mEMxrQ5vU6n",
        "colab_type": "text"
      },
      "source": [
        "## University of Technology Sydney\n",
        "## Course Code - 32513\n",
        "## Course Title - Machine Learning\n",
        "## Assignment 3 - Pitch and Plan for Solving a Domain Problem\n",
        "##Student ID - 13383575\n",
        "##Colab Link - https://colab.research.google.com/drive/138z-abgtTJ7nwy36DyQCa0waArxuc_qX"
      ]
    },
    {
      "cell_type": "markdown",
      "metadata": {
        "id": "Vx4SFbAAvum3",
        "colab_type": "text"
      },
      "source": [
        "##Project Title\n",
        "##Depression Detection in Social Media Using Machine Learning"
      ]
    },
    {
      "cell_type": "markdown",
      "metadata": {
        "id": "epcBiw0kwT3S",
        "colab_type": "text"
      },
      "source": [
        "##Aims\n"
      ]
    },
    {
      "cell_type": "markdown",
      "metadata": {
        "id": "1hAX-IObwWRw",
        "colab_type": "text"
      },
      "source": [
        "Social media platforms become an important part of the life of individuals. People reflec their personal life on social media. People enjoy social media expressing pleasure, laughter, and sorrow. The goal of this initiative is to develop a machine learning system that can search Twitter feed and inform someone if they are at risk of depression or get messages from third parties, for example, who alerted them that they might want to seek assistance based on an automatic tweet review. Detecting early anxiety can be an enormous step in treating mental illness and providing support to those struggling from this terrible mental disease."
      ]
    },
    {
      "cell_type": "markdown",
      "metadata": {
        "id": "6_fIJRVHwb1G",
        "colab_type": "text"
      },
      "source": [
        "##Background\n",
        "While we all feel awful, sad and poor from now and then, many people suffer such emotions deeply, over extended periods and sometimes without no obvious reason. Depression is more than feeling bad–it's a medical condition that affects both mental and physical health (Beyondblue.org.au, 2019). But this serious illness is not taken deliberately in many places around the world. I have in back in my home country that people make fun of those severely depressed people as many tag them just being sad. But depression is not just sadness. Depression, though, is very distinct from that. Depression is a medication-focused psychiatric disorder. \n",
        "\n",
        "Depressive disorders exist of varying severity, according to the Website of Our World in Statistics. This set of disorders from mild to moderate to severe is defined by the International Classification of Diseases(ICD-10) of the WHO. Through disaggregating between moderate, chronic depression (dysthymia) or major depressive disorder (severe), the Institute for Health Metrics and Evaluation(IHME) adopts these concepts. These can be the symptoms of depressive disorder:\n",
        "* Sleeplesness\n",
        "* Suicidal thought\n",
        "* Feeling Unworthy\n",
        "* Lack of food appetite\n",
        "* Loss of Confidence\n",
        "\n",
        "322 million people worldwide live with depression (Ritchie and Roser, 2019). Depression is the world's leading source of disease. Across developing countries, about 75 percent of people with mental disorders stay unidentified, with about 1 million people taking their lives each year. Furthermore, according to the World Health Organization (WHO), depression impacts 1 in 13 worldwide. The WHO states that psychiatric disorders have become the world's most debilitating mental illnesses with a particular phobia, the most prominent anxiety disorders including severe depressive syndrome and agoraphobia.\n",
        "\n",
        "Academic research is incresing on machine learning based depression detection. There is an increasing body of literature examining anxiety products. Choudhury et al. suggest that anxiety in person and general well-being is a true examination. A lot of individuals experience the bad effects of disappointment and a small number gets sufficient treatment yearly. Researchers have explored the possibility of using social networking to detect and evaluate some indicators of significant human depression issue. Via their web-based social media messages, they measured psychological credits that correlated with social interaction, thinking, language and semantic types, self-system meaning, and antidepressant medication notes.\n",
        "\n",
        "Choudhury et al. viewed online networking as a powerful resource for public health, based on using Twitter provides to create predictive models about the future impact of pregnancy on new mothers ' actions and disposal.\n",
        "Using Twitter posts, 376 mothers assessed postpartum improvements through social engagement, mood, casual culture, and phonetic style measures. O'Dea et al. studied Twitter as tools of identifying the state of mental well-being, including anxiety and public suicidality.Their research revealed that identifying the level of concern between suicide-related messages, using both individual programmers and a programmed computer classifier, is feasible.\n",
        "\n",
        "In their research Zhang et al. showed that if people with a higher chance of suicide can be identified by microblogs in social networking, it is possible that a complex intervention program can be modified to save their lives.\n",
        "\n",
        "Several findings (Ahmad and Aldarwish) have shown that the effective use of user-created content (UGC) may help to determine the mental health rates of individuals. For example, Aldarwish and Ahmad have looked at the growth of the use of sites like Facebook and Twitter these days, particularly through the youth. Since social network's openness allows customers to share their desires, emotions, and regular plan offers.\n",
        "\n",
        "Machine learning and quantitative techniques were used by Nguyen et al. to distinguish online messages between anxiety and control groups leveraging personality, psycholinguistic methods and drug topics excluded from the comments generated by persons from these categories.\n",
        "\n",
        "To terms of whether one is depressed or not, Park et al. studied states of mind and attitudes against digital web-based social networking. They held semi-organized one on one meeting with 14 diverse consumers on Twitter part of which were frustrated and the other half was normal. Other than exploring some project consequences for possible social platforms that could better represent distressed users and provide bits of expertise to help frustrated users resolve their problems by online social networking focused on the internet.\n",
        "\n",
        "As assessed by the generic Five Factor Model, Bachrach et al. analyzed how user's activity on Facebook correlates with personality. The associations between the identification of the client and the property of their Facebook profiles are examined. For example, the scale and depth of their communication network, the amount of photos exchanged and the number of instances, the number of signatures received and the number of times the client was identified in photographs. Ortigosa et al. presented a new opinion analysis technique on Facebook which indicates that beginning with user-composed messages regarding collecting information on the user's appraisal extremity (positive, impartial or pessimistic), as conveyed in the messages we write; and revealing the user's default assumption severe and identifying big passionate shifts.\n",
        "\n",
        "Holleran finds antecedent indicationin the sense of Facebook research that anxiety is a key contributor to the worldwide disease burden. Wang et al. and Shen et al. analyzed various depression-related features in many other related research and developed a multimodal depressive system to identify distressed clients.\n",
        "\n",
        "While emotional system, temporal method, linguistic style to diagnose depression has been addressed in some of the research mentioned above, the following weaknesses are found in existing literature:\n",
        "\n",
        "* There are few experiments conducted independently by Support Vector Machine, K-Nearest Neighbors, Decision Tree and Ensemble. There are no well-known research at the same sample that have incorporated all of these methods to examine discrepancies of observations dependent on techniques.\n",
        "* No major research has applied machine learning techniques to do depression diagnosis on Facebook data.\n",
        "\n"
      ]
    },
    {
      "cell_type": "markdown",
      "metadata": {
        "id": "IkDGDiY9wdvc",
        "colab_type": "text"
      },
      "source": [
        "##Research Project\n",
        "Web and communication technology proliferation, particularly online social networks, have invigorated how humans interact and connect digitally with each other. Apps like Facebook, Twitter, Instagram and not just written or interactive material, but also give their consumers the opportunity to demonstrate their thoughts, feelings about a subject, topic or problem online. On the other side, this is good for social networking service users to participate openly and freely and reply to any online subject; as well as, this creates incentives for people working in the health sector to gain insight into what could occur in the psychological state of someone who responded directly to an issue. To provide such information, machine learning approaches can theoretically provide some unique features that could help explore the unique patterns embedded in online communication and analyze them to expose the mental state of consumers of social networks.\n",
        "\n",
        "To remedy the above-mentioned limitations, I propose to diagnose depression from Facebook comments with this work; I am trying to expand the scope of social media-based depression interventions, explaining the various features of Facebook user comments. I also try to develop machine learning methods that can use these steps to diagnose people with depression.\n",
        "\n",
        "* Methodology: First based on four styles of variables in this analysis, such as emotional experience, temporal method, linguistic style, and all (emotional, temporal, linguistic style) attributes with others to identify and process depressed data gathered as posts on facebook. Then use controlled methods to machine learning to research every form of variable separately. Classification strategies like SVM, KNN, Ensemble and Decision Tree are considered appropriate for each form.\n",
        "* Exploring the Data: The aim is to investigate and track suicidal emotional posts from Facebook users. We're going to collect social network information. Readying social network data, particularly comments from Facebook users, is one of the initial challenges which carries details regarding whether or not they would include material containing depression. We will use NCapture to gather information from Facebook to address this problem. NCapture is a great tool for analytical data mining.\n",
        "* Preparing the Data: We have to analyze the data after extracting the raw data from Facebook. We can use LIWC Technology for this reason. LIWC is the cornerstone of the technique of text analysis and can analyze text line by line. Our predominant database will include columns reflecting the linguistic style details, then the psychological information and the temporal details and each section will provide us the information of each entity.\n",
        "* Setting Tag from Dataset: This segment will address the method that will be used to construct the database with details about the ground truth tag (on whether the comments were representative of depression). Facebook information comprising comments from users are split into two sets (a) YES category (reflective comments on depression) and (b) NO class (reflective comments on not having depression).\n",
        "* Feature Extraction: To identify and illustrate between depressed ,and non-depressive comments, in terms of psycholinguistic measures, we collect the various features from the posting of the consumer. It is briefly explained as follows: \n",
        "  * LIWC is a psycholinguistic language bundle created by behavioral researchers to describe the different affective, cognitive and etymological components of verbal or written communication of the client.This can return more than 70 different factors with higher levels of psycholinguistic characteristics, for example: \n",
        "    * Mental mechanism— affective process, interpersonal method, analytical process, sensory process, physiological process, movements, time orientations, perception, personal concerns. \n",
        "    * Linguistic mechanism— word count, word / sentence, pronoun, private pronoun, sentences, prepositions, auxiliary verbs, adverbs etc.\n",
        "    * Other grammar — verbs, adjectives, correlations, question marks, figures, quantifiers.\n",
        "\n",
        "  * Such higher-level classes are also classified into sub-categories such as: \n",
        "    * Biological processes — sexual, digestion and nutrition.\n",
        "    * Affective processes — anxiety, rage, depression, positive attitude, negative attitude.\n",
        "    * Time orientations — present, history, potential. \n",
        "    * Social processes — family, colleagues. \n",
        "\n",
        "* Process of Measuring Depressive Behaviour: They may provide a set of parameters which can be used to describe user's suicidal habits such as emotional process, temporal process, and linguistic design. The will database comprises of psychological parameters, contextual classes, and traditional semantic aspects. The standard LIWC2015 measures can be used to measure their meanings.\n",
        "  * Emotional processes: The cycle of feeling, a dynamic awareness of perception, body sensation, and actions that represents an object, an occurrence, or a state of relations' personal meaning. In a variety of situations, the study of the psychological responses in social network information can be used to make accurate predictions. Psycholinguistic measurements can be used to classify the features of the emotional state reflected in the comments: affirmatibve effect, oppossing effect, depression effect, temper effect, and panic effect.\n",
        "  * Temporal process: Temporary system term generally provides data on previous focus class, current focus category, and potential focus classification of how individuals compare one another with their psychological degree.\n",
        "  * Linguistic Process: Linguistics system is one of the main components of the language set for LIWC psycholinguistics. It can measure the use of terms in classifications with cognitive meaning. It can also be used successfully to understand people's relationships in social cooperation, like relative status, weirdness, and close bond existence. Therefore, for the empirical research, we can use different semantic attributes in our sample to describe user comments.\n",
        "\n",
        "* Classifying Stage: This phase builds predictive model for identification of depression post / comments by considering the psycholinguistic symptoms as data. Taking into account n posts / comments, so that each post or comment is either classified as depressed or not-depressed. A classifier task is to find the right tag for each post / comment. We will use KNN, Decision Tree, SVM and Ensemble model. For a better validation not only the simpler form of these will be used. Different variation of these model such as Quadretic SVM, Gaussian SVM, Complex Depth Decision Tree, Medium Depth Decision Tree, Weigthed K-Nearest Neighbor, Cubic K-Nearest Neighbor, Coarse K-Nearest Neighbor will be used. For Ensemble technique, variation like Bagged and Boosted tree will be used.\n",
        "\n",
        "* Evaluation Stage: In these stage, we will use techniques like precision, recall and F-measure in terms of emotional, temporal, linguistic and all these process together. For a better check, crossfold techniques will be used. All results will be tested upon True Positive, True Negative, False positive and False Negative and these measure will be fractionized to evaluate precision, recall and F-measure with mathematical equations for these validation measure. Not only that, Time series Analysis will also be done so that we can measure the fluctuation of result.\n",
        "* Deployment Stage: The next move is to officially release the tool for use in the developing company once the design is accepted as completed. The presumption is that only representatives will provide a portal that can be viewed from an internal website. The tool will be released at the beginning of the project's tenth month, and since then access will be provided to the general public. As social media post has privacy issue, all user must register and accept the terms and condition as their post will be used to measure their mental state. The deployment phase will also outline a publication on how the information is used and all information will be confidential, and data will not be sold to any third party. As the deployment phase is finished and only small changes are to be made to the system, most IT team members will be available to assist with the tool's support activities; however, they will monitor the specifications, answer problems a. Current defined criteria must be reported and informed to the team leaders in order to coordinate the respective implementation activities.\n",
        "* Project Validation Stage: The tool validation is concerned with implementing the resources produced from this project is a phase that is expected to take 1 month and is focused on each user's first 2 months of activity.The qualification would explore potential improvements in the life of the consumer and, if necessary, will ask for user’s feedback in this respect.\n",
        "Despite the time allotted to this stage within the timeline of the plan, this is an ongoing process which every month shows the corresponding results. For this first version, from the second month of the implementation phase, a team of quality assurance expert will be in work; their relevant duties will include iteration of this tool.\n",
        "\n",
        "\n",
        "\n"
      ]
    },
    {
      "cell_type": "markdown",
      "metadata": {
        "id": "SOyNoTE7Wu9Z",
        "colab_type": "text"
      },
      "source": [
        "##Timeline\n",
        "In the previous sections it was discussed in detail what will done in each stage. This process includes several specific tasks, often important to the preparation of the next stages, but seen within the current point in terms of time and budget. The project manager may officially evaluate the fulfillment of each stage by certifying the quality of the corresponding results of each process and approving the results in each case where required. In terms of effectiveness, extra time and costs are interpreted of the project rather than particular stages.\n",
        "The following is a broader view time in each stage: \n",
        "* Research Stage: 2 months\n",
        "*\tData Processing and Model Development Stage: 7 months\n",
        "*\tDeployment Stage: 2 months\n",
        "*\tProject Validation Stage: 1 month\n",
        "\n",
        "A more detailed (by weeks) timeline is explained in the following Gantt diagram:\n",
        " <img src=\"https://lh4.googleusercontent.com/cB_oR29qBl7FnoqAIhNJeXhj4TWKBkY55TuRWSM0Y1-5u5adlQxtKMhzPSIJITd-pAWLAN81No2f7gZr43yQ=w1365-h937-rw\">\n"
      ]
    },
    {
      "cell_type": "markdown",
      "metadata": {
        "id": "PHyoC1UoWrlv",
        "colab_type": "text"
      },
      "source": [
        "##Budget\n",
        "The estimate provided in the table below takes into account all elements of the different costs associated with the project – \n",
        "<img src = \"https://lh5.googleusercontent.com/S15A3_-2BC3yZMunNTGKI3S48p545N-sfi9r7RW2dWeR0Eq3ifp8VOfWBinomGPgPGebPp0_0P4JeOsDkLuV=w1365-h937-rw\">\n",
        "\n",
        "( The table is made with MS Word)"
      ]
    },
    {
      "cell_type": "markdown",
      "metadata": {
        "id": "nos67uWGwgJe",
        "colab_type": "text"
      },
      "source": [
        "##Personnel"
      ]
    },
    {
      "cell_type": "markdown",
      "metadata": {
        "id": "PmDZ_wlCwiYD",
        "colab_type": "text"
      },
      "source": [
        "The total workforce needed to complete the project effectively comprises 4 data scientists, 2 back end developers, 2 frond end developers and a legal advisor. To achieve prompt delivery and a superior product, the data scientist, as well as the back-end developer, should be assisted by each other, with a minimum of eight engineers. Until designing the project, data scientists were accountable for processing the data, deciding which machine learning method to use and modeling the algorithm. The 2 back-end developers and 2 frond-end developers should build the software solution which incorporates the machine learning system into a functional web application, including web and mobile interfaces, as well as computer interaction and information flow schemes. It should be noted that it helps to support an effective and robust algorithm design if the computer scientists have expertise in machine learning technology. The legal advisor guarantees that the request does not conflict with health laws and serves as a source with concerns related to data protection as the campaign is about social media interactions that are very private material. For the business goal of the project 2 business analysts should be employed, in order to keep the management duties from distracting the developer team as well as setting business goal and making industry connections. As a lot of data needs to be collected, initially it is needed to have data entry personnel in the initial stage. And as it will be a service the server needs to be up and running always, server administrator and database administrator are needed. And to overview the whole project, setting goals and leading the project, a project manager with previous experience should oversee the project."
      ]
    },
    {
      "cell_type": "markdown",
      "metadata": {
        "id": "MynEWNKcyB6Z",
        "colab_type": "text"
      },
      "source": [
        "##References\n",
        "Beyondblue.org.au. (2019). Beyond Blue. [online] Available at: https://www.beyondblue.org.au/the-facts/depression [Accessed 6 Oct. 2019].\n",
        "\n",
        "Ritchie, H. and Roser, M. (2019). Mental Health. [online] Our World in Data. Available at: https://ourworldindata.org/mental-health#anxiety-disorders [Accessed 7 Oct. 2019].\n",
        "\n",
        "UANews. (2019). Which Comes First: Smartphone Dependency or Depression?. [online] Available at: https://uanews.arizona.edu/story/which-comes-first-smartphone-dependency-or-depression [Accessed 8 Oct. 2019].\n",
        "\n",
        "De Choudhury, M., Counts, S. and Horvitz, E. (2013). Social media as a measurement tool of depression in populations. Proceedings of the 5th Annual ACM Web Science Conference on - WebSci '13.\n",
        "\n",
        "De Choudhury, M., Counts, S. and Horvitz, E., 2013, April. Predicting postpartum changes in emotion and behavior via social media. In Proceedings of the SIGCHI conference on human factors in computing systems (pp. 3267-3276). ACM.\n",
        "\n",
        "O'Dea, B., Wan, S., Batterham, P.J., Calear, A.L., Paris, C. and Christensen, H., 2015. Detecting suicidality on Twitter. Internet Interventions, 2(2), pp.183-188.\n",
        "\n",
        "Zhang, L., Huang, X., Liu, T., Li, A., Chen, Z. and Zhu, T., 2014, November. Using linguistic features to estimate suicide probability of Chinese microblog users. In International Conference on Human Centered Computing (pp. 549-559). Springer, Cham.\n",
        "\n",
        "Aldarwish, M.M. and Ahmad, H.F., 2017, March. Predicting depression levels using social media posts. In 2017 IEEE 13th international Symposium on Autonomous decentralized system (ISADS) (pp. 277-280). IEEE.\n",
        "\n",
        "Nguyen, T., Phung, D., Dao, B., Venkatesh, S. and Berk, M., 2014. Affective and content analysis of online depression communities. IEEE Transactions on Affective Computing, 5(3), pp.217-226.\n",
        "\n",
        "Park, M., McDonald, D.W. and Cha, M., 2013, June. Perception differences between the depressed and non-depressed users in twitter. In Seventh International AAAI Conference on Weblogs and Social Media.\n",
        "\n",
        "Bachrach, Y., Kosinski, M., Graepel, T., Kohli, P. and Stillwell, D., 2012, June. Personality and patterns of Facebook usage. In Proceedings of the 4th annual ACM web science conference (pp. 24-32). ACM.\n",
        "\n",
        "Ortigosa, A., Martín, J.M. and Carro, R.M., 2014. Sentiment analysis in Facebook and its application to e-learning. Computers in human behavior, 31, pp.527-541.\n",
        "\n",
        "Shen, G., Jia, J., Nie, L., Feng, F., Zhang, C., Hu, T., Chua, T.S. and Zhu, W., 2017, August. Depression Detection via Harvesting Social Media: A Multimodal Dictionary Learning Solution. In IJCAI (pp. 3838-3844).\n",
        "\n",
        "Wang, X., Zhang, C., Ji, Y., Sun, L., Wu, L. and Bao, Z., 2013, April. A depression detection model based on sentiment analysis in micro-blog social network. In Pacific-Asia Conference on Knowledge Discovery and Data Mining (pp. 201-213). Springer, Berlin, Heidelberg."
      ]
    },
    {
      "cell_type": "markdown",
      "metadata": {
        "id": "HCQtQ3bSyGD4",
        "colab_type": "text"
      },
      "source": [
        "##Video Pitch Link\n"
      ]
    }
  ]
}