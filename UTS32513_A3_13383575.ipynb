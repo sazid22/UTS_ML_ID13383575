{
  "nbformat": 4,
  "nbformat_minor": 0,
  "metadata": {
    "colab": {
      "name": "UTS32513_A3_13383575.ipynb",
      "provenance": [],
      "collapsed_sections": [],
      "include_colab_link": true
    },
    "kernelspec": {
      "name": "python3",
      "display_name": "Python 3"
    }
  },
  "cells": [
    {
      "cell_type": "markdown",
      "metadata": {
        "id": "view-in-github",
        "colab_type": "text"
      },
      "source": [
        "<a href=\"https://colab.research.google.com/github/sazid22/UTS_ML_ID13383575/blob/master/UTS32513_A3_13383575.ipynb\" target=\"_parent\"><img src=\"https://colab.research.google.com/assets/colab-badge.svg\" alt=\"Open In Colab\"/></a>"
      ]
    },
    {
      "cell_type": "markdown",
      "metadata": {
        "id": "8mEMxrQ5vU6n",
        "colab_type": "text"
      },
      "source": [
        "## University of Technology Sydney\n",
        "## Course Code - 32513\n",
        "## Course Title - Machine Learning\n",
        "## Assignment 3 - Pitch and Plan for Solving a Domain Problem\n",
        "##Student ID - 13383575\n",
        "##Colab Link - https://colab.research.google.com/drive/138z-abgtTJ7nwy36DyQCa0waArxuc_qX"
      ]
    },
    {
      "cell_type": "markdown",
      "metadata": {
        "id": "Vx4SFbAAvum3",
        "colab_type": "text"
      },
      "source": [
        "##Project Title\n",
        "##Depression Detection in Twitter Using Sentiment Analysis"
      ]
    },
    {
      "cell_type": "markdown",
      "metadata": {
        "id": "epcBiw0kwT3S",
        "colab_type": "text"
      },
      "source": [
        "##Aims\n"
      ]
    },
    {
      "cell_type": "markdown",
      "metadata": {
        "id": "1hAX-IObwWRw",
        "colab_type": "text"
      },
      "source": [
        "Social media platforms become an important part of the life of individuals. People reflec their personal life on social media. People enjoy social media expressing pleasure, laughter, and sorrow. The goal of this initiative is to develop a machine learning system that can search Twitter feed and inform someone if they are at risk of depression or get messages from third parties, for example, who alerted them that they might want to seek assistance based on an automatic tweet review. Detecting early anxiety can be an enormous step in treating mental illness and providing support to those struggling from this terrible mental disease."
      ]
    },
    {
      "cell_type": "markdown",
      "metadata": {
        "id": "6_fIJRVHwb1G",
        "colab_type": "text"
      },
      "source": [
        "##Background\n",
        "While we all feel awful, sad and poor from now and then, many people suffer such emotions deeply, over extended periods and sometimes without no obvious reason. Depression is more than feeling bad–it's a medical condition that affects both mental and physical health (Beyondblue.org.au, 2019). But this serious illness is not taken deliberately in many places around the world. I have in back in my home country that people make fun of those severely depressed people as many tag them just being sad. But depression is not just sadness. Depression, though, is very distinct from that. Depression is a medication-focused psychiatric disorder. \n",
        "\n",
        "Depressive disorders exist of varying severity, according to the Website of Our World in Statistics. This set of disorders from mild to moderate to severe is defined by the International Classification of Diseases(ICD-10) of the WHO. Through disaggregating between moderate, chronic depression (dysthymia) or major depressive disorder (severe), the Institute for Health Metrics and Evaluation(IHME) adopts these concepts. These can be the symptoms of depressive disorder:\n",
        "* Sleeplesness\n",
        "* Suicidal thought\n",
        "* Feeling Unworthy\n",
        "* Lack of food appetite\n",
        "* Loss of Confidence\n",
        "\n",
        "322 million people worldwide live with depression (Ritchie and Roser, 2019). Depression is the world's leading source of disease. Across developing countries, about 75 percent of people with mental disorders stay unidentified, with about 1 million people taking their lives each year. Furthermore, according to the World Health Organization (WHO), depression impacts 1 in 13 worldwide. The WHO states that psychiatric disorders have become the world's most debilitating mental illnesses with a particular phobia, the most prominent anxiety disorders including severe depressive syndrome and agoraphobia.\n",
        "\n",
        "Academic research is incresing on machine learning based depression detection. There is an increasing body of literature examining anxiety products. Choudhury et al. suggest that anxiety in person and general well-being is a true examination. A significant number of individuals experience the ill-effects of disappointment and just a small number gets sufficient treatment yearly. Researchers have explored the possibility of using social networking to detect and evaluate some indicators of significant human depression issue. Via their web-based social media messages, they measured psychological credits that correlated with social interaction, thinking, language and semantic types, self-system meaning, and antidepressant medication notes.\n",
        "\n",
        "Choudhury et al. viewed online networking as a powerful resource for public health, based on using Twitter provides to create predictive models about the future impact of pregnancy on new mothers ' actions and disposal.\n",
        "Using Twitter posts, 376 mothers assessed postpartum improvements through social engagement, mood, casual culture, and phonetic style measures. O'Dea et al. studied Twitter as tools of identifying the state of mental well-being, including anxiety and public suicidality.Their research revealed that identifying the level of concern between suicide-related messages, using both individual programmers and a programmed computer classifier, is feasible.\n",
        "\n",
        "Zhang et al. have shown that if people with a high risk of suicide can be recognized as microblogs by social networking, it is possible that a complex intervention program can be modified to save their lives.\n",
        "\n",
        "Several findings have shown that the effective use of user-created content (UGC) may help to determine the mental health rates of individuals. For example, Aldarwish and Ahmad have looked at the growth of the use of Social Network Sites (SNS) these days, particularly through the more youthful years. Since SNS's openness allows customers to share their desires, emotions, and regular plan offers.\n",
        "\n",
        "Machine learning and quantitative techniques were used by Nguyen et al. to distinguish online messages between anxiety and control groups leveraging personality, psycholinguistic methods and drug topics excluded from the comments generated by persons from these categories.\n",
        "\n",
        "To terms of whether one is depressed or not, Park et al. studied states of mind and attitudes against digital web-based social networking. They held semi-organized one on one meeting with 14 diverse consumers on Twitter part of which were frustrated and the other half was normal. Other than exploring some project consequences for possible social platforms that could better represent distressed users and provide bits of expertise to help frustrated users resolve their problems by online social networking focused on the internet.\n",
        "\n",
        "As assessed by the generic Five Factor Model, Bachrach et al. analyzed how user activity on Facebook correlates with their personality. The associations between the identification of the client and the property of their Facebook profiles are examined. For example, the scale and depth of their communication network, the amount of photos exchanged and the number of instances, the number of signatures received and the number of times the client was identified in photographs. Ortigosa et al. presented a new opinion analysis technique on Facebook which indicates that beginning with user-composed messages regarding collecting information on the user's appraisal extremity (positive, impartial or pessimistic), as conveyed in the messages we write; and revealing the user's default assumption severe and identifying big passionate shifts.\n",
        "\n",
        "Holleran finds antecedent indicationin the sense of Facebook research that anxiety is a key contributor to the worldwide disease burden. Wang et al. and Shen et al. analyzed various depression-related features in many other related research and developed a multimodal depressive system to identify distressed clients.\n",
        "\n",
        "While emotional system, temporal method, linguistic style to diagnose depression has been addressed in some of the research mentioned above, the following weaknesses are found in existing literature:\n",
        "\n",
        "* There are few experiments conducted independently by Support Vector Machine, K-Nearest Neighbors, Decision Tree and Ensemble. There are no well-known research at the same sample that have incorporated all of these methods to examine discrepancies of observations dependent on techniques.\n",
        "* No major research has applied the above-mentioned techniques of machine learning to depression diagnosis on Facebook data.\n",
        "\n"
      ]
    },
    {
      "cell_type": "markdown",
      "metadata": {
        "id": "IkDGDiY9wdvc",
        "colab_type": "text"
      },
      "source": [
        "##Research Project\n",
        "Web and communication technology proliferation, particularly online social networks, have invigorated how humans interact and connect digitally with each other. Apps like Facebook, Twitter, Instagram and not just written or interactive material, but also give their consumers the opportunity to demonstrate their thoughts, feelings about a subject, topic or problem online. On the other side, this is good for social networking service users to participate openly and freely and reply to any online subject; as well as, this creates incentives for people working in the health sector to gain insight into what could occur in the psychological state of someone who responded directly to an issue. To provide such information, machine learning approaches can theoretically provide some unique features that could help explore the unique patterns embedded in online communication and analyze them to expose the mental state of consumers of social networks.\n",
        "\n",
        "To remedy the above-mentioned limitations, I propose to attempt to diagnose depression from Facebook comments with this work; I am trying to expand the scope of social media-based depression interventions, explaining the various features of Facebook user comments. I also try to develop machine learning methods that can use these steps to diagnose people with depression.\n",
        "\n",
        "* Methodology: First based on four styles of variables in this analysis, such as emotional experience, temporal method, linguistic style, and all (emotional, temporal, linguistic style) attributes with others to identify and process depressed data gathered as posts on facebook. Then use controlled methods to machine learning to research every form of variable separately. Classification strategies like SVM, KNN, Ensemble and Decision Tree are considered appropriate for each form.\n",
        "\n"
      ]
    },
    {
      "cell_type": "markdown",
      "metadata": {
        "id": "PHyoC1UoWrlv",
        "colab_type": "text"
      },
      "source": [
        "##Budget"
      ]
    },
    {
      "cell_type": "markdown",
      "metadata": {
        "id": "nos67uWGwgJe",
        "colab_type": "text"
      },
      "source": [
        "##Personnel"
      ]
    },
    {
      "cell_type": "markdown",
      "metadata": {
        "id": "PmDZ_wlCwiYD",
        "colab_type": "text"
      },
      "source": [
        ""
      ]
    },
    {
      "cell_type": "markdown",
      "metadata": {
        "id": "MynEWNKcyB6Z",
        "colab_type": "text"
      },
      "source": [
        "##References\n",
        "Beyondblue.org.au. (2019). Beyond Blue. [online] Available at: https://www.beyondblue.org.au/the-facts/depression [Accessed 6 Oct. 2019].\n",
        "Ritchie, H. and Roser, M. (2019). Mental Health. [online] Our World in Data. Available at: https://ourworldindata.org/mental-health#anxiety-disorders [Accessed 7 Oct. 2019].\n"
      ]
    },
    {
      "cell_type": "markdown",
      "metadata": {
        "id": "HCQtQ3bSyGD4",
        "colab_type": "text"
      },
      "source": [
        "##Video Pitch Link\n"
      ]
    }
  ]
}