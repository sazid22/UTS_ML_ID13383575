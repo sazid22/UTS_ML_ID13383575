{
  "nbformat": 4,
  "nbformat_minor": 0,
  "metadata": {
    "colab": {
      "name": "UTS32513_A3_13383575.ipynb",
      "provenance": [],
      "collapsed_sections": [],
      "include_colab_link": true
    },
    "kernelspec": {
      "name": "python3",
      "display_name": "Python 3"
    }
  },
  "cells": [
    {
      "cell_type": "markdown",
      "metadata": {
        "id": "view-in-github",
        "colab_type": "text"
      },
      "source": [
        "<a href=\"https://colab.research.google.com/github/sazid22/UTS_ML_ID13383575/blob/master/UTS32513_A3_13383575.ipynb\" target=\"_parent\"><img src=\"https://colab.research.google.com/assets/colab-badge.svg\" alt=\"Open In Colab\"/></a>"
      ]
    },
    {
      "cell_type": "markdown",
      "metadata": {
        "id": "8mEMxrQ5vU6n",
        "colab_type": "text"
      },
      "source": [
        "## University of Technology Sydney\n",
        "## Course Code - 32513\n",
        "## Course Title - Machine Learning\n",
        "## Assignment 3 - Pitch and Plan for Solving a Domain Problem\n",
        "##Student ID - 13383575\n",
        "##Colab Link - https://colab.research.google.com/drive/138z-abgtTJ7nwy36DyQCa0waArxuc_qX"
      ]
    },
    {
      "cell_type": "markdown",
      "metadata": {
        "id": "Vx4SFbAAvum3",
        "colab_type": "text"
      },
      "source": [
        "##Project Title\n",
        "##Depression Detection in Twitter Using Sentiment Analysis"
      ]
    },
    {
      "cell_type": "markdown",
      "metadata": {
        "id": "epcBiw0kwT3S",
        "colab_type": "text"
      },
      "source": [
        "##Aims\n"
      ]
    },
    {
      "cell_type": "markdown",
      "metadata": {
        "id": "1hAX-IObwWRw",
        "colab_type": "text"
      },
      "source": [
        "Social media platforms become an important part of the life of individuals. People reflec their personal life on social media. People enjoy social media expressing pleasure, laughter, and sorrow. The goal of this initiative is to develop a machine learning system that can search Twitter feed and inform someone if they are at risk of depression or get messages from third parties, for example, who alerted them that they might want to seek assistance based on an automatic tweet review. Detecting early anxiety can be an enormous step in treating mental illness and providing support to those struggling from this terrible mental disease."
      ]
    },
    {
      "cell_type": "markdown",
      "metadata": {
        "id": "6_fIJRVHwb1G",
        "colab_type": "text"
      },
      "source": [
        "##Background"
      ]
    },
    {
      "cell_type": "markdown",
      "metadata": {
        "id": "IkDGDiY9wdvc",
        "colab_type": "text"
      },
      "source": [
        "##Research Project"
      ]
    },
    {
      "cell_type": "markdown",
      "metadata": {
        "id": "PHyoC1UoWrlv",
        "colab_type": "text"
      },
      "source": [
        "##Budget"
      ]
    },
    {
      "cell_type": "markdown",
      "metadata": {
        "id": "nos67uWGwgJe",
        "colab_type": "text"
      },
      "source": [
        "##Personnel"
      ]
    },
    {
      "cell_type": "markdown",
      "metadata": {
        "id": "PmDZ_wlCwiYD",
        "colab_type": "text"
      },
      "source": [
        ""
      ]
    },
    {
      "cell_type": "markdown",
      "metadata": {
        "id": "MynEWNKcyB6Z",
        "colab_type": "text"
      },
      "source": [
        "##References"
      ]
    },
    {
      "cell_type": "markdown",
      "metadata": {
        "id": "HCQtQ3bSyGD4",
        "colab_type": "text"
      },
      "source": [
        "##Video Pitch Link\n"
      ]
    }
  ]
}