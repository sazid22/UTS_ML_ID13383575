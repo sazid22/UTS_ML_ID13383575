{
  "nbformat": 4,
  "nbformat_minor": 0,
  "metadata": {
    "colab": {
      "name": "UTS32513_A3_13383575.ipynb",
      "provenance": [],
      "collapsed_sections": [],
      "include_colab_link": true
    },
    "kernelspec": {
      "name": "python3",
      "display_name": "Python 3"
    }
  },
  "cells": [
    {
      "cell_type": "markdown",
      "metadata": {
        "id": "view-in-github",
        "colab_type": "text"
      },
      "source": [
        "<a href=\"https://colab.research.google.com/github/sazid22/UTS_ML_ID13383575/blob/master/UTS32513_A3_13383575.ipynb\" target=\"_parent\"><img src=\"https://colab.research.google.com/assets/colab-badge.svg\" alt=\"Open In Colab\"/></a>"
      ]
    },
    {
      "cell_type": "markdown",
      "metadata": {
        "id": "8mEMxrQ5vU6n",
        "colab_type": "text"
      },
      "source": [
        "## University of Technology Sydney\n",
        "## Course Code - 32513\n",
        "## Course Title - Machine Learning\n",
        "## Assignment 3 - Pitch and Plan for Solving a Domain Problem\n",
        "##Student ID - 13383575\n",
        "##Colab Link - https://colab.research.google.com/drive/138z-abgtTJ7nwy36DyQCa0waArxuc_qX"
      ]
    },
    {
      "cell_type": "markdown",
      "metadata": {
        "id": "Vx4SFbAAvum3",
        "colab_type": "text"
      },
      "source": [
        "##Project Title\n",
        "##Depression Detection in Twitter Using Sentiment Analysis"
      ]
    },
    {
      "cell_type": "markdown",
      "metadata": {
        "id": "epcBiw0kwT3S",
        "colab_type": "text"
      },
      "source": [
        "##Aims\n"
      ]
    },
    {
      "cell_type": "markdown",
      "metadata": {
        "id": "1hAX-IObwWRw",
        "colab_type": "text"
      },
      "source": [
        "Social media platforms become an important part of the life of individuals. People reflec their personal life on social media. People enjoy social media expressing pleasure, laughter, and sorrow. The goal of this initiative is to develop a machine learning system that can search Twitter feed and inform someone if they are at risk of depression or get messages from third parties, for example, who alerted them that they might want to seek assistance based on an automatic tweet review. Detecting early anxiety can be an enormous step in treating mental illness and providing support to those struggling from this terrible mental disease."
      ]
    },
    {
      "cell_type": "markdown",
      "metadata": {
        "id": "6_fIJRVHwb1G",
        "colab_type": "text"
      },
      "source": [
        "##Background\n",
        "While we all feel awful, sad and poor from now and then, many people suffer such emotions deeply, over extended periods and sometimes without no obvious reason. Depression is more than feeling bad–it's a medical condition that affects both mental and physical health (Beyondblue.org.au, 2019). But this serious illness is not taken deliberately in many places around the world. I have in back in my home country that people make fun of those severely depressed people as many tag them just being sad. But depression is not just sadness. Depression, though, is very distinct from that. Depression is a medication-focused psychiatric disorder. \n",
        "\n",
        "Depressive disorders exist of varying severity, according to the Website of Our World in Statistics. This set of disorders from mild to moderate to severe is defined by the International Classification of Diseases(ICD-10) of the WHO. Through disaggregating between moderate, chronic depression (dysthymia) or major depressive disorder (severe), the Institute for Health Metrics and Evaluation(IHME) adopts these concepts. These can be the symptoms of depressive disorder:\n",
        "* Sleeplesness\n",
        "* Suicidal thought\n",
        "* Feeling Unworthy\n",
        "* Lack of food appetite\n",
        "* Loss of Confidence\n",
        "\n",
        "322 million people worldwide live with depression (Ritchie and Roser, 2019). Depression is the world's leading source of disease. Across developing countries, about 75 percent of people with mental disorders stay unidentified, with about 1 million people taking their lives each year. Furthermore, according to the World Health Organization (WHO), depression impacts 1 in 13 worldwide. The WHO states that psychiatric disorders have become the world's most debilitating mental illnesses with a particular phobia, the most prominent anxiety disorders including severe depressive syndrome and agoraphobia.\n",
        "\n",
        "\n"
      ]
    },
    {
      "cell_type": "markdown",
      "metadata": {
        "id": "IkDGDiY9wdvc",
        "colab_type": "text"
      },
      "source": [
        "##Research Project\n",
        "Web and communication technology proliferation, particularly online social networks, have invigorated how humans interact and connect digitally with each other. Apps like Facebook, Twitter, Instagram and not just written or interactive material, but also give their consumers the opportunity to demonstrate their thoughts, feelings about a subject, topic or problem online. On the other side, this is good for social networking service users to participate openly and freely and reply to any online subject; as well as, this creates incentives for people working in the health sector to gain insight into what could occur in the psychological state of someone who responded directly to an issue. To provide such information, machine learning approaches can theoretically provide some unique features that could help explore the unique patterns embedded in online communication and analyze them to expose the mental state of consumers of social networks.\n",
        "\n"
      ]
    },
    {
      "cell_type": "markdown",
      "metadata": {
        "id": "PHyoC1UoWrlv",
        "colab_type": "text"
      },
      "source": [
        "##Budget"
      ]
    },
    {
      "cell_type": "markdown",
      "metadata": {
        "id": "nos67uWGwgJe",
        "colab_type": "text"
      },
      "source": [
        "##Personnel"
      ]
    },
    {
      "cell_type": "markdown",
      "metadata": {
        "id": "PmDZ_wlCwiYD",
        "colab_type": "text"
      },
      "source": [
        ""
      ]
    },
    {
      "cell_type": "markdown",
      "metadata": {
        "id": "MynEWNKcyB6Z",
        "colab_type": "text"
      },
      "source": [
        "##References\n",
        "Beyondblue.org.au. (2019). Beyond Blue. [online] Available at: https://www.beyondblue.org.au/the-facts/depression [Accessed 6 Oct. 2019].\n",
        "Ritchie, H. and Roser, M. (2019). Mental Health. [online] Our World in Data. Available at: https://ourworldindata.org/mental-health#anxiety-disorders [Accessed 7 Oct. 2019].\n"
      ]
    },
    {
      "cell_type": "markdown",
      "metadata": {
        "id": "HCQtQ3bSyGD4",
        "colab_type": "text"
      },
      "source": [
        "##Video Pitch Link\n"
      ]
    }
  ]
}